{
  "cells": [
    {
      "cell_type": "code",
      "execution_count": null,
      "metadata": {
        "id": "eCVb3COJ4FUt"
      },
      "outputs": [],
      "source": [
        "import pandas as pd"
      ]
    },
    {
      "cell_type": "code",
      "execution_count": null,
      "metadata": {
        "id": "DjQ5RxYA4qL5"
      },
      "outputs": [],
      "source": [
        "df = pd.read_csv('reviews.csv')"
      ]
    },
    {
      "cell_type": "code",
      "execution_count": null,
      "metadata": {
        "colab": {
          "base_uri": "https://localhost:8080/",
          "height": 206
        },
        "id": "Gc7zF_AX4uTo",
        "outputId": "afb4a8dc-a399-4ba0-e58f-91a02a1b8d48"
      },
      "outputs": [
        {
          "data": {
            "application/vnd.google.colaboratory.intrinsic+json": {
              "type": "dataframe",
              "variable_name": "df"
            },
            "text/html": [
              "\n",
              "  <div id=\"df-dcd608ac-a496-480c-8bb1-4dd0aa1b0cd1\" class=\"colab-df-container\">\n",
              "    <div>\n",
              "<style scoped>\n",
              "    .dataframe tbody tr th:only-of-type {\n",
              "        vertical-align: middle;\n",
              "    }\n",
              "\n",
              "    .dataframe tbody tr th {\n",
              "        vertical-align: top;\n",
              "    }\n",
              "\n",
              "    .dataframe thead th {\n",
              "        text-align: right;\n",
              "    }\n",
              "</style>\n",
              "<table border=\"1\" class=\"dataframe\">\n",
              "  <thead>\n",
              "    <tr style=\"text-align: right;\">\n",
              "      <th></th>\n",
              "      <th>listing_id</th>\n",
              "      <th>id</th>\n",
              "      <th>date</th>\n",
              "      <th>reviewer_id</th>\n",
              "      <th>reviewer_name</th>\n",
              "      <th>comments</th>\n",
              "    </tr>\n",
              "  </thead>\n",
              "  <tbody>\n",
              "    <tr>\n",
              "      <th>0</th>\n",
              "      <td>2384</td>\n",
              "      <td>25218143</td>\n",
              "      <td>2015-01-09</td>\n",
              "      <td>14385014</td>\n",
              "      <td>Ivan</td>\n",
              "      <td>it's a wonderful trip experience. I didn't exc...</td>\n",
              "    </tr>\n",
              "    <tr>\n",
              "      <th>1</th>\n",
              "      <td>289689</td>\n",
              "      <td>827738</td>\n",
              "      <td>2012-01-02</td>\n",
              "      <td>358296</td>\n",
              "      <td>Alan</td>\n",
              "      <td>Staying at Christine's place was a great exper...</td>\n",
              "    </tr>\n",
              "    <tr>\n",
              "      <th>2</th>\n",
              "      <td>289689</td>\n",
              "      <td>1021213</td>\n",
              "      <td>2012-03-19</td>\n",
              "      <td>1090895</td>\n",
              "      <td>Lisa</td>\n",
              "      <td>We stayed at Killians apartment for five night...</td>\n",
              "    </tr>\n",
              "    <tr>\n",
              "      <th>3</th>\n",
              "      <td>289689</td>\n",
              "      <td>1098208</td>\n",
              "      <td>2012-04-08</td>\n",
              "      <td>737040</td>\n",
              "      <td>Brian</td>\n",
              "      <td>Christine was very helpful, her place is in a ...</td>\n",
              "    </tr>\n",
              "    <tr>\n",
              "      <th>4</th>\n",
              "      <td>289689</td>\n",
              "      <td>1291346</td>\n",
              "      <td>2012-05-16</td>\n",
              "      <td>2244965</td>\n",
              "      <td>Haus</td>\n",
              "      <td>Hello, We made a round trip out of work and Fu...</td>\n",
              "    </tr>\n",
              "  </tbody>\n",
              "</table>\n",
              "</div>\n",
              "    <div class=\"colab-df-buttons\">\n",
              "\n",
              "  <div class=\"colab-df-container\">\n",
              "    <button class=\"colab-df-convert\" onclick=\"convertToInteractive('df-dcd608ac-a496-480c-8bb1-4dd0aa1b0cd1')\"\n",
              "            title=\"Convert this dataframe to an interactive table.\"\n",
              "            style=\"display:none;\">\n",
              "\n",
              "  <svg xmlns=\"http://www.w3.org/2000/svg\" height=\"24px\" viewBox=\"0 -960 960 960\">\n",
              "    <path d=\"M120-120v-720h720v720H120Zm60-500h600v-160H180v160Zm220 220h160v-160H400v160Zm0 220h160v-160H400v160ZM180-400h160v-160H180v160Zm440 0h160v-160H620v160ZM180-180h160v-160H180v160Zm440 0h160v-160H620v160Z\"/>\n",
              "  </svg>\n",
              "    </button>\n",
              "\n",
              "  <style>\n",
              "    .colab-df-container {\n",
              "      display:flex;\n",
              "      gap: 12px;\n",
              "    }\n",
              "\n",
              "    .colab-df-convert {\n",
              "      background-color: #E8F0FE;\n",
              "      border: none;\n",
              "      border-radius: 50%;\n",
              "      cursor: pointer;\n",
              "      display: none;\n",
              "      fill: #1967D2;\n",
              "      height: 32px;\n",
              "      padding: 0 0 0 0;\n",
              "      width: 32px;\n",
              "    }\n",
              "\n",
              "    .colab-df-convert:hover {\n",
              "      background-color: #E2EBFA;\n",
              "      box-shadow: 0px 1px 2px rgba(60, 64, 67, 0.3), 0px 1px 3px 1px rgba(60, 64, 67, 0.15);\n",
              "      fill: #174EA6;\n",
              "    }\n",
              "\n",
              "    .colab-df-buttons div {\n",
              "      margin-bottom: 4px;\n",
              "    }\n",
              "\n",
              "    [theme=dark] .colab-df-convert {\n",
              "      background-color: #3B4455;\n",
              "      fill: #D2E3FC;\n",
              "    }\n",
              "\n",
              "    [theme=dark] .colab-df-convert:hover {\n",
              "      background-color: #434B5C;\n",
              "      box-shadow: 0px 1px 3px 1px rgba(0, 0, 0, 0.15);\n",
              "      filter: drop-shadow(0px 1px 2px rgba(0, 0, 0, 0.3));\n",
              "      fill: #FFFFFF;\n",
              "    }\n",
              "  </style>\n",
              "\n",
              "    <script>\n",
              "      const buttonEl =\n",
              "        document.querySelector('#df-dcd608ac-a496-480c-8bb1-4dd0aa1b0cd1 button.colab-df-convert');\n",
              "      buttonEl.style.display =\n",
              "        google.colab.kernel.accessAllowed ? 'block' : 'none';\n",
              "\n",
              "      async function convertToInteractive(key) {\n",
              "        const element = document.querySelector('#df-dcd608ac-a496-480c-8bb1-4dd0aa1b0cd1');\n",
              "        const dataTable =\n",
              "          await google.colab.kernel.invokeFunction('convertToInteractive',\n",
              "                                                    [key], {});\n",
              "        if (!dataTable) return;\n",
              "\n",
              "        const docLinkHtml = 'Like what you see? Visit the ' +\n",
              "          '<a target=\"_blank\" href=https://colab.research.google.com/notebooks/data_table.ipynb>data table notebook</a>'\n",
              "          + ' to learn more about interactive tables.';\n",
              "        element.innerHTML = '';\n",
              "        dataTable['output_type'] = 'display_data';\n",
              "        await google.colab.output.renderOutput(dataTable, element);\n",
              "        const docLink = document.createElement('div');\n",
              "        docLink.innerHTML = docLinkHtml;\n",
              "        element.appendChild(docLink);\n",
              "      }\n",
              "    </script>\n",
              "  </div>\n",
              "\n",
              "\n",
              "<div id=\"df-5c8bba92-a0c8-423a-9047-359828e173f7\">\n",
              "  <button class=\"colab-df-quickchart\" onclick=\"quickchart('df-5c8bba92-a0c8-423a-9047-359828e173f7')\"\n",
              "            title=\"Suggest charts\"\n",
              "            style=\"display:none;\">\n",
              "\n",
              "<svg xmlns=\"http://www.w3.org/2000/svg\" height=\"24px\"viewBox=\"0 0 24 24\"\n",
              "     width=\"24px\">\n",
              "    <g>\n",
              "        <path d=\"M19 3H5c-1.1 0-2 .9-2 2v14c0 1.1.9 2 2 2h14c1.1 0 2-.9 2-2V5c0-1.1-.9-2-2-2zM9 17H7v-7h2v7zm4 0h-2V7h2v10zm4 0h-2v-4h2v4z\"/>\n",
              "    </g>\n",
              "</svg>\n",
              "  </button>\n",
              "\n",
              "<style>\n",
              "  .colab-df-quickchart {\n",
              "      --bg-color: #E8F0FE;\n",
              "      --fill-color: #1967D2;\n",
              "      --hover-bg-color: #E2EBFA;\n",
              "      --hover-fill-color: #174EA6;\n",
              "      --disabled-fill-color: #AAA;\n",
              "      --disabled-bg-color: #DDD;\n",
              "  }\n",
              "\n",
              "  [theme=dark] .colab-df-quickchart {\n",
              "      --bg-color: #3B4455;\n",
              "      --fill-color: #D2E3FC;\n",
              "      --hover-bg-color: #434B5C;\n",
              "      --hover-fill-color: #FFFFFF;\n",
              "      --disabled-bg-color: #3B4455;\n",
              "      --disabled-fill-color: #666;\n",
              "  }\n",
              "\n",
              "  .colab-df-quickchart {\n",
              "    background-color: var(--bg-color);\n",
              "    border: none;\n",
              "    border-radius: 50%;\n",
              "    cursor: pointer;\n",
              "    display: none;\n",
              "    fill: var(--fill-color);\n",
              "    height: 32px;\n",
              "    padding: 0;\n",
              "    width: 32px;\n",
              "  }\n",
              "\n",
              "  .colab-df-quickchart:hover {\n",
              "    background-color: var(--hover-bg-color);\n",
              "    box-shadow: 0 1px 2px rgba(60, 64, 67, 0.3), 0 1px 3px 1px rgba(60, 64, 67, 0.15);\n",
              "    fill: var(--button-hover-fill-color);\n",
              "  }\n",
              "\n",
              "  .colab-df-quickchart-complete:disabled,\n",
              "  .colab-df-quickchart-complete:disabled:hover {\n",
              "    background-color: var(--disabled-bg-color);\n",
              "    fill: var(--disabled-fill-color);\n",
              "    box-shadow: none;\n",
              "  }\n",
              "\n",
              "  .colab-df-spinner {\n",
              "    border: 2px solid var(--fill-color);\n",
              "    border-color: transparent;\n",
              "    border-bottom-color: var(--fill-color);\n",
              "    animation:\n",
              "      spin 1s steps(1) infinite;\n",
              "  }\n",
              "\n",
              "  @keyframes spin {\n",
              "    0% {\n",
              "      border-color: transparent;\n",
              "      border-bottom-color: var(--fill-color);\n",
              "      border-left-color: var(--fill-color);\n",
              "    }\n",
              "    20% {\n",
              "      border-color: transparent;\n",
              "      border-left-color: var(--fill-color);\n",
              "      border-top-color: var(--fill-color);\n",
              "    }\n",
              "    30% {\n",
              "      border-color: transparent;\n",
              "      border-left-color: var(--fill-color);\n",
              "      border-top-color: var(--fill-color);\n",
              "      border-right-color: var(--fill-color);\n",
              "    }\n",
              "    40% {\n",
              "      border-color: transparent;\n",
              "      border-right-color: var(--fill-color);\n",
              "      border-top-color: var(--fill-color);\n",
              "    }\n",
              "    60% {\n",
              "      border-color: transparent;\n",
              "      border-right-color: var(--fill-color);\n",
              "    }\n",
              "    80% {\n",
              "      border-color: transparent;\n",
              "      border-right-color: var(--fill-color);\n",
              "      border-bottom-color: var(--fill-color);\n",
              "    }\n",
              "    90% {\n",
              "      border-color: transparent;\n",
              "      border-bottom-color: var(--fill-color);\n",
              "    }\n",
              "  }\n",
              "</style>\n",
              "\n",
              "  <script>\n",
              "    async function quickchart(key) {\n",
              "      const quickchartButtonEl =\n",
              "        document.querySelector('#' + key + ' button');\n",
              "      quickchartButtonEl.disabled = true;  // To prevent multiple clicks.\n",
              "      quickchartButtonEl.classList.add('colab-df-spinner');\n",
              "      try {\n",
              "        const charts = await google.colab.kernel.invokeFunction(\n",
              "            'suggestCharts', [key], {});\n",
              "      } catch (error) {\n",
              "        console.error('Error during call to suggestCharts:', error);\n",
              "      }\n",
              "      quickchartButtonEl.classList.remove('colab-df-spinner');\n",
              "      quickchartButtonEl.classList.add('colab-df-quickchart-complete');\n",
              "    }\n",
              "    (() => {\n",
              "      let quickchartButtonEl =\n",
              "        document.querySelector('#df-5c8bba92-a0c8-423a-9047-359828e173f7 button');\n",
              "      quickchartButtonEl.style.display =\n",
              "        google.colab.kernel.accessAllowed ? 'block' : 'none';\n",
              "    })();\n",
              "  </script>\n",
              "</div>\n",
              "    </div>\n",
              "  </div>\n"
            ],
            "text/plain": [
              "   listing_id        id        date  reviewer_id reviewer_name  \\\n",
              "0        2384  25218143  2015-01-09     14385014          Ivan   \n",
              "1      289689    827738  2012-01-02       358296          Alan   \n",
              "2      289689   1021213  2012-03-19      1090895          Lisa   \n",
              "3      289689   1098208  2012-04-08       737040         Brian   \n",
              "4      289689   1291346  2012-05-16      2244965          Haus   \n",
              "\n",
              "                                            comments  \n",
              "0  it's a wonderful trip experience. I didn't exc...  \n",
              "1  Staying at Christine's place was a great exper...  \n",
              "2  We stayed at Killians apartment for five night...  \n",
              "3  Christine was very helpful, her place is in a ...  \n",
              "4  Hello, We made a round trip out of work and Fu...  "
            ]
          },
          "execution_count": 6,
          "metadata": {},
          "output_type": "execute_result"
        }
      ],
      "source": [
        "df.head(5)"
      ]
    },
    {
      "cell_type": "code",
      "execution_count": null,
      "metadata": {
        "id": "VTaZCpmn6RTZ"
      },
      "outputs": [],
      "source": [
        "df['date'] = pd.to_datetime(df['date'])\n",
        "period1 = df[(df['date'] >= '2014-05-01') & (df['date'] <= '2016-12-31')]\n",
        "period2 = df[(df['date'] >= '2017-01-01') & (df['date'] <= '2018-05-31')]"
      ]
    },
    {
      "cell_type": "code",
      "execution_count": null,
      "metadata": {
        "colab": {
          "base_uri": "https://localhost:8080/"
        },
        "id": "jmfYOVTf9BKf",
        "outputId": "7bbd256d-9a6d-4bee-aea5-bda07d56920b"
      },
      "outputs": [
        {
          "name": "stderr",
          "output_type": "stream",
          "text": [
            "[nltk_data] Downloading package punkt to /root/nltk_data...\n",
            "[nltk_data]   Unzipping tokenizers/punkt.zip.\n",
            "[nltk_data] Downloading package stopwords to /root/nltk_data...\n",
            "[nltk_data]   Unzipping corpora/stopwords.zip.\n"
          ]
        }
      ],
      "source": [
        "import nltk\n",
        "from nltk.corpus import stopwords\n",
        "from nltk.tokenize import word_tokenize\n",
        "\n",
        "nltk.download('punkt')\n",
        "nltk.download('stopwords')\n",
        "\n",
        "def preprocess_text(text):\n",
        "    if isinstance(text, str):\n",
        "        tokens = word_tokenize(text.lower())  # Tokenize and convert to lower case\n",
        "        tokens = [word for word in tokens if word.isalpha()]  # Remove punctuation\n",
        "        tokens = [word for word in tokens if word not in stopwords.words('english')]  # Remove stopwords\n",
        "        return ' '.join(tokens)\n",
        "    else:\n",
        "        return \"\""
      ]
    },
    {
      "cell_type": "code",
      "execution_count": null,
      "metadata": {
        "colab": {
          "base_uri": "https://localhost:8080/"
        },
        "id": "qkorp0NVGROR",
        "outputId": "0f5ac2a7-73f9-41b0-ee4a-88d1bee2da00"
      },
      "outputs": [
        {
          "name": "stderr",
          "output_type": "stream",
          "text": [
            "<ipython-input-9-7c7c2001e11b>:1: SettingWithCopyWarning: \n",
            "A value is trying to be set on a copy of a slice from a DataFrame.\n",
            "Try using .loc[row_indexer,col_indexer] = value instead\n",
            "\n",
            "See the caveats in the documentation: https://pandas.pydata.org/pandas-docs/stable/user_guide/indexing.html#returning-a-view-versus-a-copy\n",
            "  period1['processed_comments'] = period1['comments'].apply(preprocess_text)\n",
            "<ipython-input-9-7c7c2001e11b>:2: SettingWithCopyWarning: \n",
            "A value is trying to be set on a copy of a slice from a DataFrame.\n",
            "Try using .loc[row_indexer,col_indexer] = value instead\n",
            "\n",
            "See the caveats in the documentation: https://pandas.pydata.org/pandas-docs/stable/user_guide/indexing.html#returning-a-view-versus-a-copy\n",
            "  period2['processed_comments'] = period2['comments'].apply(preprocess_text)\n"
          ]
        }
      ],
      "source": [
        "period1['processed_comments'] = period1['comments'].apply(preprocess_text)\n",
        "period2['processed_comments'] = period2['comments'].apply(preprocess_text)"
      ]
    },
    {
      "cell_type": "code",
      "execution_count": null,
      "metadata": {
        "colab": {
          "base_uri": "https://localhost:8080/"
        },
        "id": "7e74ZPdT9P0N",
        "outputId": "d4126449-4d1e-444a-d036-498bc06d0516"
      },
      "outputs": [
        {
          "name": "stderr",
          "output_type": "stream",
          "text": [
            "[nltk_data] Downloading package vader_lexicon to /root/nltk_data...\n"
          ]
        }
      ],
      "source": [
        "from nltk.sentiment import SentimentIntensityAnalyzer\n",
        "nltk.download('vader_lexicon')\n",
        "# Initialize the sentiment analyzer\n",
        "sia = SentimentIntensityAnalyzer()\n",
        "\n",
        "# Function to get the compound sentiment score from a text\n",
        "def get_sentiment(text):\n",
        "    if text:\n",
        "        return sia.polarity_scores(text)['compound']\n",
        "    else:\n",
        "        return 0\n"
      ]
    },
    {
      "cell_type": "code",
      "execution_count": null,
      "metadata": {
        "colab": {
          "base_uri": "https://localhost:8080/"
        },
        "id": "QgDcSCCIInBU",
        "outputId": "b892998a-ca68-4e92-fc97-86dfb91a1234"
      },
      "outputs": [
        {
          "name": "stderr",
          "output_type": "stream",
          "text": [
            "<ipython-input-11-7e91e25a5f8a>:1: SettingWithCopyWarning: \n",
            "A value is trying to be set on a copy of a slice from a DataFrame.\n",
            "Try using .loc[row_indexer,col_indexer] = value instead\n",
            "\n",
            "See the caveats in the documentation: https://pandas.pydata.org/pandas-docs/stable/user_guide/indexing.html#returning-a-view-versus-a-copy\n",
            "  period1['sentiment_score'] = period1['processed_comments'].apply(get_sentiment)\n",
            "<ipython-input-11-7e91e25a5f8a>:2: SettingWithCopyWarning: \n",
            "A value is trying to be set on a copy of a slice from a DataFrame.\n",
            "Try using .loc[row_indexer,col_indexer] = value instead\n",
            "\n",
            "See the caveats in the documentation: https://pandas.pydata.org/pandas-docs/stable/user_guide/indexing.html#returning-a-view-versus-a-copy\n",
            "  period2['sentiment_score'] = period2['processed_comments'].apply(get_sentiment)\n"
          ]
        }
      ],
      "source": [
        "period1['sentiment_score'] = period1['processed_comments'].apply(get_sentiment)\n",
        "period2['sentiment_score'] = period2['processed_comments'].apply(get_sentiment)"
      ]
    },
    {
      "cell_type": "code",
      "execution_count": null,
      "metadata": {
        "id": "t6GjJaLpIxBD"
      },
      "outputs": [],
      "source": [
        "average_sentiment_period1 = period1['sentiment_score'].mean()\n",
        "average_sentiment_period2 = period2['sentiment_score'].mean()"
      ]
    },
    {
      "cell_type": "code",
      "execution_count": null,
      "metadata": {
        "colab": {
          "base_uri": "https://localhost:8080/"
        },
        "id": "hanCXZXDI3Hb",
        "outputId": "e6b9f3ac-a6e2-44d4-ff00-2afcd70a7a77"
      },
      "outputs": [
        {
          "name": "stdout",
          "output_type": "stream",
          "text": [
            "Average Sentiment Score for Period 1 (May 2014 - Dec 2016): 0.8673921901283222\n",
            "Average Sentiment Score for Period 2 (Jan 2017 - May 2018): 0.8208318543480296\n"
          ]
        }
      ],
      "source": [
        "print(\"Average Sentiment Score for Period 1 (May 2014 - Dec 2016):\", average_sentiment_period1)\n",
        "print(\"Average Sentiment Score for Period 2 (Jan 2017 - May 2018):\", average_sentiment_period2)\n"
      ]
    },
    {
      "cell_type": "code",
      "execution_count": null,
      "metadata": {
        "id": "vMz_F3cEJAGq"
      },
      "outputs": [],
      "source": [
        "import gensim\n",
        "from gensim import corpora\n",
        "from gensim.models.ldamodel import LdaModel\n",
        "\n",
        "# Helper function to prepare text data\n",
        "def prepare_texts(texts):\n",
        "    return [text.split() for text in texts if text]\n",
        "\n",
        "# Prepare texts for each period\n",
        "texts_period1 = prepare_texts(period1['processed_comments'])\n",
        "texts_period2 = prepare_texts(period2['processed_comments'])\n",
        "\n",
        "# Create a dictionary and corpus for each period\n",
        "dictionary_period1 = corpora.Dictionary(texts_period1)\n",
        "corpus_period1 = [dictionary_period1.doc2bow(text) for text in texts_period1]\n",
        "\n",
        "dictionary_period2 = corpora.Dictionary(texts_period2)\n",
        "corpus_period2 = [dictionary_period2.doc2bow(text) for text in texts_period2]\n"
      ]
    },
    {
      "cell_type": "code",
      "execution_count": null,
      "metadata": {
        "colab": {
          "background_save": true
        },
        "id": "oYZ0v3sSJb6Q"
      },
      "outputs": [],
      "source": [
        "# Number of topics\n",
        "num_topics = 10\n",
        "\n",
        "# Train LDA model for Period 1\n",
        "lda_model_period1 = LdaModel(corpus_period1, num_topics=num_topics, id2word=dictionary_period1, passes=15)\n",
        "\n",
        "# Train LDA model for Period 2\n",
        "lda_model_period2 = LdaModel(corpus_period2, num_topics=num_topics, id2word=dictionary_period2, passes=15)\n"
      ]
    },
    {
      "cell_type": "code",
      "execution_count": null,
      "metadata": {
        "colab": {
          "background_save": true
        },
        "id": "8dNKxCNNJeNZ",
        "outputId": "500c4462-a5f8-4563-930f-45064396a0ea"
      },
      "outputs": [
        {
          "name": "stdout",
          "output_type": "stream",
          "text": [
            "\n",
            "Topics from Period 1 (May 2014 - Dec 2016):\n",
            "(0, '0.043*\"restaurants\" + 0.035*\"walking\" + 0.029*\"park\" + 0.029*\"distance\" + 0.024*\"within\"')\n",
            "(1, '0.031*\"gavin\" + 0.012*\"damen\" + 0.012*\"responses\" + 0.012*\"per\" + 0.010*\"di\"')\n",
            "(2, '0.039*\"de\" + 0.029*\"la\" + 0.021*\"et\" + 0.018*\"en\" + 0.014*\"un\"')\n",
            "(3, '0.034*\"home\" + 0.024*\"us\" + 0.017*\"chicago\" + 0.017*\"stay\" + 0.015*\"house\"')\n",
            "(4, '0.055*\"line\" + 0.034*\"walk\" + 0.025*\"blue\" + 0.023*\"downtown\" + 0.021*\"away\"')\n",
            "(5, '0.027*\"und\" + 0.018*\"die\" + 0.015*\"chantell\" + 0.013*\"sehr\" + 0.013*\"man\"')\n",
            "(6, '0.030*\"great\" + 0.028*\"place\" + 0.022*\"stay\" + 0.020*\"us\" + 0.020*\"nice\"')\n",
            "(7, '0.017*\"room\" + 0.014*\"kitchen\" + 0.012*\"bed\" + 0.011*\"bathroom\" + 0.010*\"one\"')\n",
            "(8, '0.052*\"nick\" + 0.019*\"steve\" + 0.015*\"staff\" + 0.013*\"cable\" + 0.010*\"ear\"')\n",
            "(9, '0.046*\"great\" + 0.037*\"stay\" + 0.036*\"place\" + 0.023*\"location\" + 0.023*\"would\"')\n",
            "\n",
            "Topics from Period 2 (Jan 2017 - May 2018):\n",
            "(0, '0.023*\"room\" + 0.023*\"place\" + 0.022*\"nice\" + 0.020*\"good\" + 0.018*\"parking\"')\n",
            "(1, '0.033*\"de\" + 0.030*\"alex\" + 0.024*\"et\" + 0.017*\"très\" + 0.014*\"est\"')\n",
            "(2, '0.026*\"group\" + 0.026*\"space\" + 0.019*\"unit\" + 0.018*\"large\" + 0.009*\"plenty\"')\n",
            "(3, '0.073*\"kitchen\" + 0.022*\"bathroom\" + 0.018*\"towels\" + 0.018*\"shower\" + 0.015*\"water\"')\n",
            "(4, '0.033*\"us\" + 0.013*\"home\" + 0.013*\"even\" + 0.010*\"also\" + 0.009*\"make\"')\n",
            "(5, '0.029*\"great\" + 0.026*\"restaurants\" + 0.025*\"close\" + 0.020*\"walk\" + 0.019*\"downtown\"')\n",
            "(6, '0.079*\"great\" + 0.060*\"place\" + 0.047*\"stay\" + 0.033*\"clean\" + 0.030*\"location\"')\n",
            "(7, '0.050*\"questions\" + 0.043*\"check\" + 0.039*\"quick\" + 0.031*\"us\" + 0.026*\"respond\"')\n",
            "(8, '0.035*\"place\" + 0.034*\"stay\" + 0.034*\"chicago\" + 0.023*\"home\" + 0.020*\"time\"')\n",
            "(9, '0.029*\"de\" + 0.028*\"la\" + 0.026*\"juanita\" + 0.023*\"el\" + 0.023*\"muy\"')\n"
          ]
        }
      ],
      "source": [
        "topics_period1 = lda_model_period1.print_topics(num_words=5)\n",
        "print(\"\\nTopics from Period 1 (May 2014 - Dec 2016):\")\n",
        "for topic in topics_period1:\n",
        "    print(topic)\n",
        "\n",
        "topics_period2 = lda_model_period2.print_topics(num_words=5)\n",
        "print(\"\\nTopics from Period 2 (Jan 2017 - May 2018):\")\n",
        "for topic in topics_period2:\n",
        "    print(topic)"
      ]
    },
    {
      "cell_type": "code",
      "execution_count": null,
      "metadata": {
        "id": "O8pPgzzgK-en"
      },
      "outputs": [],
      "source": [
        "from sklearn.feature_extraction.text import TfidfVectorizer"
      ]
    },
    {
      "cell_type": "code",
      "execution_count": null,
      "metadata": {
        "id": "0G5wMGXGN-YQ"
      },
      "outputs": [],
      "source": [
        "corpus_pre_policy = period1['processed_comments'].tolist()\n",
        "corpus_post_policy = period2['processed_comments'].tolist()"
      ]
    },
    {
      "cell_type": "code",
      "execution_count": null,
      "metadata": {
        "id": "5Wi0p0_GONL5"
      },
      "outputs": [],
      "source": [
        "tfidf_vectorizer = TfidfVectorizer(max_features=100)  # Adjust `max_features` as needed\n",
        "\n",
        "# Fit and transform the corpora\n",
        "tfidf_pre = tfidf_vectorizer.fit_transform(corpus_pre_policy)\n",
        "tfidf_post = tfidf_vectorizer.fit_transform(corpus_post_policy)\n",
        "\n",
        "# Getting feature names to understand what each column in the matrix represents\n",
        "feature_names_pre = tfidf_vectorizer.get_feature_names_out()\n",
        "feature_names_post = tfidf_vectorizer.get_feature_names_out()"
      ]
    },
    {
      "cell_type": "code",
      "execution_count": null,
      "metadata": {
        "colab": {
          "base_uri": "https://localhost:8080/"
        },
        "id": "CIfKM4MvOQLS",
        "outputId": "7858d95e-33e5-4ce9-d40f-5c709c792d18"
      },
      "outputs": [
        {
          "name": "stdout",
          "output_type": "stream",
          "text": [
            "Top 10 TF-IDF Terms in Pre-Policy Reviews:\n",
            "highly       0.110517\n",
            "place        0.091942\n",
            "space        0.088671\n",
            "apartment    0.068356\n",
            "check        0.068111\n",
            "trip         0.064969\n",
            "house        0.060018\n",
            "city         0.059380\n",
            "nice         0.058402\n",
            "lots         0.057669\n",
            "dtype: float64\n",
            "\n",
            "Top 10 TF-IDF Terms in Post-Policy Reviews:\n",
            "great        0.123881\n",
            "place        0.111647\n",
            "stay         0.090009\n",
            "location     0.068746\n",
            "clean        0.062260\n",
            "host         0.056523\n",
            "nice         0.055704\n",
            "chicago      0.054921\n",
            "would        0.053091\n",
            "apartment    0.048542\n",
            "dtype: float64\n"
          ]
        }
      ],
      "source": [
        "df_tfidf_pre = pd.DataFrame(tfidf_pre.toarray(), columns=feature_names_pre)\n",
        "df_tfidf_post = pd.DataFrame(tfidf_post.toarray(), columns=feature_names_post)\n",
        "\n",
        "# Calculate average TF-IDF score for each word\n",
        "avg_scores_pre = df_tfidf_pre.mean(axis=0).sort_values(ascending=False)\n",
        "avg_scores_post = df_tfidf_post.mean(axis=0).sort_values(ascending=False)\n",
        "\n",
        "# Display top 10 terms from each period\n",
        "print(\"Top 10 TF-IDF Terms in Pre-Policy Reviews:\")\n",
        "print(avg_scores_pre.head(10))\n",
        "\n",
        "print(\"\\nTop 10 TF-IDF Terms in Post-Policy Reviews:\")\n",
        "print(avg_scores_post.head(10))"
      ]
    },
    {
      "cell_type": "code",
      "execution_count": null,
      "metadata": {
        "colab": {
          "base_uri": "https://localhost:8080/",
          "height": 233
        },
        "id": "QmTEN6TAOvCb",
        "outputId": "00a9b5da-f60c-45ba-b206-d85481e83959"
      },
      "outputs": [
        {
          "ename": "NameError",
          "evalue": "name 'df_post_policy' is not defined",
          "output_type": "error",
          "traceback": [
            "\u001b[0;31m---------------------------------------------------------------------------\u001b[0m",
            "\u001b[0;31mNameError\u001b[0m                                 Traceback (most recent call last)",
            "\u001b[0;32m<ipython-input-35-9dabe1e7ce29>\u001b[0m in \u001b[0;36m<cell line: 10>\u001b[0;34m()\u001b[0m\n\u001b[1;32m      8\u001b[0m \u001b[0;34m\u001b[0m\u001b[0m\n\u001b[1;32m      9\u001b[0m \u001b[0;31m# Applying the function to your DataFrame\u001b[0m\u001b[0;34m\u001b[0m\u001b[0;34m\u001b[0m\u001b[0m\n\u001b[0;32m---> 10\u001b[0;31m \u001b[0mdf_post_policy\u001b[0m\u001b[0;34m[\u001b[0m\u001b[0;34m'location_sentiments'\u001b[0m\u001b[0;34m]\u001b[0m \u001b[0;34m=\u001b[0m \u001b[0mdf_post_policy\u001b[0m\u001b[0;34m[\u001b[0m\u001b[0;34m'comments'\u001b[0m\u001b[0;34m]\u001b[0m\u001b[0;34m.\u001b[0m\u001b[0mapply\u001b[0m\u001b[0;34m(\u001b[0m\u001b[0;32mlambda\u001b[0m \u001b[0mx\u001b[0m\u001b[0;34m:\u001b[0m \u001b[0msentiment_around_word\u001b[0m\u001b[0;34m(\u001b[0m\u001b[0mx\u001b[0m\u001b[0;34m,\u001b[0m \u001b[0;34m'location'\u001b[0m\u001b[0;34m)\u001b[0m\u001b[0;34m)\u001b[0m\u001b[0;34m\u001b[0m\u001b[0;34m\u001b[0m\u001b[0m\n\u001b[0m\u001b[1;32m     11\u001b[0m \u001b[0;34m\u001b[0m\u001b[0m\n\u001b[1;32m     12\u001b[0m \u001b[0;31m# Analyze the results\u001b[0m\u001b[0;34m\u001b[0m\u001b[0;34m\u001b[0m\u001b[0m\n",
            "\u001b[0;31mNameError\u001b[0m: name 'df_post_policy' is not defined"
          ]
        }
      ],
      "source": [
        "from textblob import TextBlob\n",
        "\n",
        "# Function to extract sentiment around a specific word\n",
        "def sentiment_around_word(text, word):\n",
        "    sentences = [sentence for sentence in text.split('.') if word in sentence]\n",
        "    sentiments = [TextBlob(sentence).sentiment.polarity for sentence in sentences]\n",
        "    return sentiments\n",
        "\n",
        "# Applying the function to your DataFrame\n",
        "df_post_policy['location_sentiments'] = df_post_policy['comments'].apply(lambda x: sentiment_around_word(x, 'location'))\n",
        "\n",
        "# Analyze the results\n",
        "average_location_sentiment = df_post_policy['location_sentiments'].mean()\n",
        "\n",
        "print(\"Average Sentiment for 'location':\", average_location_sentiment)"
      ]
    },
    {
      "cell_type": "code",
      "execution_count": null,
      "metadata": {
        "id": "ZjoNwpszf_Rj"
      },
      "outputs": [],
      "source": [
        "listing = pd.read_csv('listings 2.csv')"
      ]
    },
    {
      "cell_type": "code",
      "execution_count": null,
      "metadata": {
        "colab": {
          "base_uri": "https://localhost:8080/",
          "height": 234
        },
        "id": "911EERLngFF0",
        "outputId": "5cdd5e06-3362-43a4-efb1-cc790a45bb59"
      },
      "outputs": [
        {
          "output_type": "execute_result",
          "data": {
            "text/plain": [
              "        id                           listing_url       scrape_id last_scraped  \\\n",
              "0  1461451  https://www.airbnb.com/rooms/1461451  20231218032601   2023-12-18   \n",
              "\n",
              "        source                                               name  \\\n",
              "0  city scrape  Rental unit in Chicago · ★4.60 · 1 bedroom · 1...   \n",
              "\n",
              "   description                              neighborhood_overview  \\\n",
              "0          NaN  We are in the far north neighborhood of Chicag...   \n",
              "\n",
              "                                         picture_url  host_id  ...  \\\n",
              "0  https://a0.muscache.com/pictures/da1a79e0-ac55...  2907254  ...   \n",
              "\n",
              "  review_scores_communication review_scores_location review_scores_value  \\\n",
              "0                         4.8                   4.52                4.65   \n",
              "\n",
              "        license instant_bookable calculated_host_listings_count  \\\n",
              "0  R21000075752                f                             15   \n",
              "\n",
              "  calculated_host_listings_count_entire_homes  \\\n",
              "0                                           0   \n",
              "\n",
              "  calculated_host_listings_count_private_rooms  \\\n",
              "0                                            4   \n",
              "\n",
              "  calculated_host_listings_count_shared_rooms reviews_per_month  \n",
              "0                                          11              1.49  \n",
              "\n",
              "[1 rows x 75 columns]"
            ],
            "text/html": [
              "\n",
              "  <div id=\"df-21cbb6c8-c885-4fd2-8776-dd080593ee15\" class=\"colab-df-container\">\n",
              "    <div>\n",
              "<style scoped>\n",
              "    .dataframe tbody tr th:only-of-type {\n",
              "        vertical-align: middle;\n",
              "    }\n",
              "\n",
              "    .dataframe tbody tr th {\n",
              "        vertical-align: top;\n",
              "    }\n",
              "\n",
              "    .dataframe thead th {\n",
              "        text-align: right;\n",
              "    }\n",
              "</style>\n",
              "<table border=\"1\" class=\"dataframe\">\n",
              "  <thead>\n",
              "    <tr style=\"text-align: right;\">\n",
              "      <th></th>\n",
              "      <th>id</th>\n",
              "      <th>listing_url</th>\n",
              "      <th>scrape_id</th>\n",
              "      <th>last_scraped</th>\n",
              "      <th>source</th>\n",
              "      <th>name</th>\n",
              "      <th>description</th>\n",
              "      <th>neighborhood_overview</th>\n",
              "      <th>picture_url</th>\n",
              "      <th>host_id</th>\n",
              "      <th>...</th>\n",
              "      <th>review_scores_communication</th>\n",
              "      <th>review_scores_location</th>\n",
              "      <th>review_scores_value</th>\n",
              "      <th>license</th>\n",
              "      <th>instant_bookable</th>\n",
              "      <th>calculated_host_listings_count</th>\n",
              "      <th>calculated_host_listings_count_entire_homes</th>\n",
              "      <th>calculated_host_listings_count_private_rooms</th>\n",
              "      <th>calculated_host_listings_count_shared_rooms</th>\n",
              "      <th>reviews_per_month</th>\n",
              "    </tr>\n",
              "  </thead>\n",
              "  <tbody>\n",
              "    <tr>\n",
              "      <th>0</th>\n",
              "      <td>1461451</td>\n",
              "      <td>https://www.airbnb.com/rooms/1461451</td>\n",
              "      <td>20231218032601</td>\n",
              "      <td>2023-12-18</td>\n",
              "      <td>city scrape</td>\n",
              "      <td>Rental unit in Chicago · ★4.60 · 1 bedroom · 1...</td>\n",
              "      <td>NaN</td>\n",
              "      <td>We are in the far north neighborhood of Chicag...</td>\n",
              "      <td>https://a0.muscache.com/pictures/da1a79e0-ac55...</td>\n",
              "      <td>2907254</td>\n",
              "      <td>...</td>\n",
              "      <td>4.8</td>\n",
              "      <td>4.52</td>\n",
              "      <td>4.65</td>\n",
              "      <td>R21000075752</td>\n",
              "      <td>f</td>\n",
              "      <td>15</td>\n",
              "      <td>0</td>\n",
              "      <td>4</td>\n",
              "      <td>11</td>\n",
              "      <td>1.49</td>\n",
              "    </tr>\n",
              "  </tbody>\n",
              "</table>\n",
              "<p>1 rows × 75 columns</p>\n",
              "</div>\n",
              "    <div class=\"colab-df-buttons\">\n",
              "\n",
              "  <div class=\"colab-df-container\">\n",
              "    <button class=\"colab-df-convert\" onclick=\"convertToInteractive('df-21cbb6c8-c885-4fd2-8776-dd080593ee15')\"\n",
              "            title=\"Convert this dataframe to an interactive table.\"\n",
              "            style=\"display:none;\">\n",
              "\n",
              "  <svg xmlns=\"http://www.w3.org/2000/svg\" height=\"24px\" viewBox=\"0 -960 960 960\">\n",
              "    <path d=\"M120-120v-720h720v720H120Zm60-500h600v-160H180v160Zm220 220h160v-160H400v160Zm0 220h160v-160H400v160ZM180-400h160v-160H180v160Zm440 0h160v-160H620v160ZM180-180h160v-160H180v160Zm440 0h160v-160H620v160Z\"/>\n",
              "  </svg>\n",
              "    </button>\n",
              "\n",
              "  <style>\n",
              "    .colab-df-container {\n",
              "      display:flex;\n",
              "      gap: 12px;\n",
              "    }\n",
              "\n",
              "    .colab-df-convert {\n",
              "      background-color: #E8F0FE;\n",
              "      border: none;\n",
              "      border-radius: 50%;\n",
              "      cursor: pointer;\n",
              "      display: none;\n",
              "      fill: #1967D2;\n",
              "      height: 32px;\n",
              "      padding: 0 0 0 0;\n",
              "      width: 32px;\n",
              "    }\n",
              "\n",
              "    .colab-df-convert:hover {\n",
              "      background-color: #E2EBFA;\n",
              "      box-shadow: 0px 1px 2px rgba(60, 64, 67, 0.3), 0px 1px 3px 1px rgba(60, 64, 67, 0.15);\n",
              "      fill: #174EA6;\n",
              "    }\n",
              "\n",
              "    .colab-df-buttons div {\n",
              "      margin-bottom: 4px;\n",
              "    }\n",
              "\n",
              "    [theme=dark] .colab-df-convert {\n",
              "      background-color: #3B4455;\n",
              "      fill: #D2E3FC;\n",
              "    }\n",
              "\n",
              "    [theme=dark] .colab-df-convert:hover {\n",
              "      background-color: #434B5C;\n",
              "      box-shadow: 0px 1px 3px 1px rgba(0, 0, 0, 0.15);\n",
              "      filter: drop-shadow(0px 1px 2px rgba(0, 0, 0, 0.3));\n",
              "      fill: #FFFFFF;\n",
              "    }\n",
              "  </style>\n",
              "\n",
              "    <script>\n",
              "      const buttonEl =\n",
              "        document.querySelector('#df-21cbb6c8-c885-4fd2-8776-dd080593ee15 button.colab-df-convert');\n",
              "      buttonEl.style.display =\n",
              "        google.colab.kernel.accessAllowed ? 'block' : 'none';\n",
              "\n",
              "      async function convertToInteractive(key) {\n",
              "        const element = document.querySelector('#df-21cbb6c8-c885-4fd2-8776-dd080593ee15');\n",
              "        const dataTable =\n",
              "          await google.colab.kernel.invokeFunction('convertToInteractive',\n",
              "                                                    [key], {});\n",
              "        if (!dataTable) return;\n",
              "\n",
              "        const docLinkHtml = 'Like what you see? Visit the ' +\n",
              "          '<a target=\"_blank\" href=https://colab.research.google.com/notebooks/data_table.ipynb>data table notebook</a>'\n",
              "          + ' to learn more about interactive tables.';\n",
              "        element.innerHTML = '';\n",
              "        dataTable['output_type'] = 'display_data';\n",
              "        await google.colab.output.renderOutput(dataTable, element);\n",
              "        const docLink = document.createElement('div');\n",
              "        docLink.innerHTML = docLinkHtml;\n",
              "        element.appendChild(docLink);\n",
              "      }\n",
              "    </script>\n",
              "  </div>\n",
              "\n",
              "    </div>\n",
              "  </div>\n"
            ],
            "application/vnd.google.colaboratory.intrinsic+json": {
              "type": "dataframe",
              "variable_name": "listing"
            }
          },
          "metadata": {},
          "execution_count": 3
        }
      ],
      "source": [
        "listing.head(1)"
      ]
    },
    {
      "cell_type": "code",
      "execution_count": null,
      "metadata": {
        "id": "UqvjvjsHgGte",
        "colab": {
          "base_uri": "https://localhost:8080/"
        },
        "outputId": "322ca5b0-a0b4-4217-99ae-4e59356c9c67"
      },
      "outputs": [
        {
          "output_type": "execute_result",
          "data": {
            "text/plain": [
              "8949"
            ]
          },
          "metadata": {},
          "execution_count": 4
        }
      ],
      "source": [
        "len(listing)"
      ]
    },
    {
      "cell_type": "code",
      "source": [],
      "metadata": {
        "id": "5Xem1JJRSIqm"
      },
      "execution_count": null,
      "outputs": []
    }
  ],
  "metadata": {
    "colab": {
      "provenance": []
    },
    "kernelspec": {
      "display_name": "Python 3",
      "name": "python3"
    },
    "language_info": {
      "name": "python"
    }
  },
  "nbformat": 4,
  "nbformat_minor": 0
}